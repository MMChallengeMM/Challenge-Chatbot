{
  "cells": [
    {
      "cell_type": "markdown",
      "metadata": {
        "id": "-fxo9-_dBCqO"
      },
      "source": [
        "# Sprint 3"
      ]
    },
    {
      "cell_type": "markdown",
      "metadata": {
        "id": "_P72I__531ft"
      },
      "source": [
        "## Importando bibliotecas"
      ]
    },
    {
      "cell_type": "code",
      "execution_count": 101,
      "metadata": {
        "id": "RyhwoQiflodR"
      },
      "outputs": [],
      "source": [
        "import pandas as pd\n",
        "import matplotlib.pyplot as plt\n",
        "import seaborn as sns"
      ]
    },
    {
      "cell_type": "markdown",
      "metadata": {
        "id": "PmH6VkZf37mY"
      },
      "source": [
        "## Corrigindo a base de dados"
      ]
    },
    {
      "cell_type": "code",
      "execution_count": 102,
      "metadata": {
        "colab": {
          "base_uri": "https://localhost:8080/"
        },
        "id": "5ze7yvZkqGUy",
        "outputId": "9bd826d3-7520-41dc-9b49-ebb1d16a2174"
      },
      "outputs": [
        {
          "name": "stdout",
          "output_type": "stream",
          "text": [
            "<class 'pandas.core.frame.DataFrame'>\n",
            "RangeIndex: 2973 entries, 0 to 2972\n",
            "Data columns (total 28 columns):\n",
            " #   Column               Non-Null Count  Dtype  \n",
            "---  ------               --------------  -----  \n",
            " 0   Unnamed: 0           2973 non-null   int64  \n",
            " 1   Gravidade            2973 non-null   object \n",
            " 2   Concessionaria       2973 non-null   object \n",
            " 3   Data_Ocorrencia      2973 non-null   object \n",
            " 4   Hora_Ocorrencia      2973 non-null   object \n",
            " 5   UF                   2973 non-null   object \n",
            " 6   Municipio            2973 non-null   object \n",
            " 7   Linha                2973 non-null   object \n",
            " 8   Quilômetro_Inicial   2973 non-null   float64\n",
            " 9   Quilômetro_Final     2927 non-null   float64\n",
            " 10  Estação_Anterior     2973 non-null   object \n",
            " 11  Estação_Posterior    2973 non-null   object \n",
            " 12  Perímetro Urbano     2973 non-null   object \n",
            " 13  Causa_direta         2973 non-null   object \n",
            " 14  Causa_contibutiva    2906 non-null   object \n",
            " 15  Natureza             2973 non-null   object \n",
            " 16  Interrupção          2973 non-null   float64\n",
            " 17  N_Trem               2973 non-null   int64  \n",
            " 18  Prefixo              2847 non-null   object \n",
            " 19  Double_Stack         2853 non-null   object \n",
            " 20  Serviço_Transporte   2853 non-null   object \n",
            " 21  N_feridos            2973 non-null   int64  \n",
            " 22  N_obitos             2973 non-null   int64  \n",
            " 23  Mercadoria           2737 non-null   object \n",
            " 24  Equipagem            2846 non-null   object \n",
            " 25  Outra_Ferrovia       117 non-null    object \n",
            " 26  PN                   2973 non-null   object \n",
            " 27  Prejuízo_Financeiro  1158 non-null   float64\n",
            "dtypes: float64(4), int64(4), object(20)\n",
            "memory usage: 650.5+ KB\n"
          ]
        }
      ],
      "source": [
        "df = pd.read_csv(\"../data/base_dados.csv\")\n",
        "df_base = df.copy()\n",
        "df.info()"
      ]
    },
    {
      "cell_type": "code",
      "execution_count": 103,
      "metadata": {
        "colab": {
          "base_uri": "https://localhost:8080/",
          "height": 499
        },
        "id": "dZhtqkyQrPLL",
        "outputId": "207f3692-cc28-4aef-a0ab-a3fcec6aa8b4"
      },
      "outputs": [
        {
          "data": {
            "text/html": [
              "<div>\n",
              "<style scoped>\n",
              "    .dataframe tbody tr th:only-of-type {\n",
              "        vertical-align: middle;\n",
              "    }\n",
              "\n",
              "    .dataframe tbody tr th {\n",
              "        vertical-align: top;\n",
              "    }\n",
              "\n",
              "    .dataframe thead th {\n",
              "        text-align: right;\n",
              "    }\n",
              "</style>\n",
              "<table border=\"1\" class=\"dataframe\">\n",
              "  <thead>\n",
              "    <tr style=\"text-align: right;\">\n",
              "      <th></th>\n",
              "      <th>Unnamed: 0</th>\n",
              "      <th>Gravidade</th>\n",
              "      <th>Concessionaria</th>\n",
              "      <th>Data_Ocorrencia</th>\n",
              "      <th>Hora_Ocorrencia</th>\n",
              "      <th>UF</th>\n",
              "      <th>Municipio</th>\n",
              "      <th>Linha</th>\n",
              "      <th>Quilômetro_Inicial</th>\n",
              "      <th>Quilômetro_Final</th>\n",
              "      <th>...</th>\n",
              "      <th>Prefixo</th>\n",
              "      <th>Double_Stack</th>\n",
              "      <th>Serviço_Transporte</th>\n",
              "      <th>N_feridos</th>\n",
              "      <th>N_obitos</th>\n",
              "      <th>Mercadoria</th>\n",
              "      <th>Equipagem</th>\n",
              "      <th>Outra_Ferrovia</th>\n",
              "      <th>PN</th>\n",
              "      <th>Prejuízo_Financeiro</th>\n",
              "    </tr>\n",
              "  </thead>\n",
              "  <tbody>\n",
              "    <tr>\n",
              "      <th>0</th>\n",
              "      <td>0</td>\n",
              "      <td>Sim</td>\n",
              "      <td>FTL</td>\n",
              "      <td>12/01/2020</td>\n",
              "      <td>16:00</td>\n",
              "      <td>PE</td>\n",
              "      <td>Jaboatao dos Guararapes</td>\n",
              "      <td>Tronco Sul Recife</td>\n",
              "      <td>5.000</td>\n",
              "      <td>5.001</td>\n",
              "      <td>...</td>\n",
              "      <td>NaN</td>\n",
              "      <td>NaN</td>\n",
              "      <td>NaN</td>\n",
              "      <td>0</td>\n",
              "      <td>0</td>\n",
              "      <td>NaN</td>\n",
              "      <td>NaN</td>\n",
              "      <td>NaN</td>\n",
              "      <td>Não</td>\n",
              "      <td>918.0</td>\n",
              "    </tr>\n",
              "    <tr>\n",
              "      <th>1</th>\n",
              "      <td>1</td>\n",
              "      <td>Não</td>\n",
              "      <td>FCA</td>\n",
              "      <td>12/03/2020</td>\n",
              "      <td>11:04</td>\n",
              "      <td>MG</td>\n",
              "      <td>Santo Antonio do Monte</td>\n",
              "      <td>Garças de Minas - Calafate</td>\n",
              "      <td>675.450</td>\n",
              "      <td>NaN</td>\n",
              "      <td>...</td>\n",
              "      <td>C305</td>\n",
              "      <td>Não</td>\n",
              "      <td>Cargas</td>\n",
              "      <td>0</td>\n",
              "      <td>0</td>\n",
              "      <td>Cloreto de Potássio</td>\n",
              "      <td>Rogerio Dias da Silva</td>\n",
              "      <td>NaN</td>\n",
              "      <td>Sim</td>\n",
              "      <td>NaN</td>\n",
              "    </tr>\n",
              "    <tr>\n",
              "      <th>2</th>\n",
              "      <td>2</td>\n",
              "      <td>Não</td>\n",
              "      <td>MRS</td>\n",
              "      <td>12/04/2020</td>\n",
              "      <td>06:35</td>\n",
              "      <td>MG</td>\n",
              "      <td>Ibirite</td>\n",
              "      <td>Variante do Paraopeba</td>\n",
              "      <td>614.996</td>\n",
              "      <td>NaN</td>\n",
              "      <td>...</td>\n",
              "      <td>KPE1101</td>\n",
              "      <td>Não</td>\n",
              "      <td>Cargas</td>\n",
              "      <td>0</td>\n",
              "      <td>0</td>\n",
              "      <td>Container Carregado de 20</td>\n",
              "      <td>MARCELINO BASILIO</td>\n",
              "      <td>NaN</td>\n",
              "      <td>Sim</td>\n",
              "      <td>NaN</td>\n",
              "    </tr>\n",
              "    <tr>\n",
              "      <th>3</th>\n",
              "      <td>3</td>\n",
              "      <td>Sim</td>\n",
              "      <td>FTL</td>\n",
              "      <td>12/04/2020</td>\n",
              "      <td>20:30</td>\n",
              "      <td>MA</td>\n",
              "      <td>Sao Luis</td>\n",
              "      <td>Ramal de Itaqui</td>\n",
              "      <td>30.000</td>\n",
              "      <td>NaN</td>\n",
              "      <td>...</td>\n",
              "      <td>W002</td>\n",
              "      <td>Não</td>\n",
              "      <td>Cargas</td>\n",
              "      <td>0</td>\n",
              "      <td>0</td>\n",
              "      <td>Óleos Diesel em VagõesTanque  VagõesVazios de ...</td>\n",
              "      <td>MARCIO ADRIANO SANTOS NUNES</td>\n",
              "      <td>NaN</td>\n",
              "      <td>Não</td>\n",
              "      <td>NaN</td>\n",
              "    </tr>\n",
              "    <tr>\n",
              "      <th>4</th>\n",
              "      <td>4</td>\n",
              "      <td>Sim</td>\n",
              "      <td>FTL</td>\n",
              "      <td>12/05/2020</td>\n",
              "      <td>16:35</td>\n",
              "      <td>CE</td>\n",
              "      <td>Crateus</td>\n",
              "      <td>Tronco Norte Fortaleza</td>\n",
              "      <td>475.000</td>\n",
              "      <td>NaN</td>\n",
              "      <td>...</td>\n",
              "      <td>K107</td>\n",
              "      <td>Não</td>\n",
              "      <td>Cargas</td>\n",
              "      <td>0</td>\n",
              "      <td>0</td>\n",
              "      <td>Bobinas de Aço ou Ferro  Cimento Acondicionado...</td>\n",
              "      <td>ANTONIO EGENNALES ALVES DE MIRANDA  JONAEL DE ...</td>\n",
              "      <td>NaN</td>\n",
              "      <td>Sim</td>\n",
              "      <td>NaN</td>\n",
              "    </tr>\n",
              "  </tbody>\n",
              "</table>\n",
              "<p>5 rows × 28 columns</p>\n",
              "</div>"
            ],
            "text/plain": [
              "   Unnamed: 0 Gravidade Concessionaria Data_Ocorrencia Hora_Ocorrencia  UF  \\\n",
              "0           0       Sim            FTL      12/01/2020           16:00  PE   \n",
              "1           1       Não            FCA      12/03/2020           11:04  MG   \n",
              "2           2       Não            MRS      12/04/2020           06:35  MG   \n",
              "3           3       Sim            FTL      12/04/2020           20:30  MA   \n",
              "4           4       Sim            FTL      12/05/2020           16:35  CE   \n",
              "\n",
              "                 Municipio                       Linha  Quilômetro_Inicial  \\\n",
              "0  Jaboatao dos Guararapes           Tronco Sul Recife               5.000   \n",
              "1   Santo Antonio do Monte  Garças de Minas - Calafate             675.450   \n",
              "2                  Ibirite       Variante do Paraopeba             614.996   \n",
              "3                 Sao Luis             Ramal de Itaqui              30.000   \n",
              "4                  Crateus      Tronco Norte Fortaleza             475.000   \n",
              "\n",
              "   Quilômetro_Final  ...  Prefixo Double_Stack Serviço_Transporte N_feridos  \\\n",
              "0             5.001  ...      NaN          NaN                NaN         0   \n",
              "1               NaN  ...     C305          Não             Cargas         0   \n",
              "2               NaN  ...  KPE1101          Não             Cargas         0   \n",
              "3               NaN  ...     W002          Não             Cargas         0   \n",
              "4               NaN  ...     K107          Não             Cargas         0   \n",
              "\n",
              "  N_obitos                                         Mercadoria  \\\n",
              "0        0                                                NaN   \n",
              "1        0                                Cloreto de Potássio   \n",
              "2        0                          Container Carregado de 20   \n",
              "3        0  Óleos Diesel em VagõesTanque  VagõesVazios de ...   \n",
              "4        0  Bobinas de Aço ou Ferro  Cimento Acondicionado...   \n",
              "\n",
              "                                           Equipagem  Outra_Ferrovia   PN  \\\n",
              "0                                                NaN             NaN  Não   \n",
              "1                              Rogerio Dias da Silva             NaN  Sim   \n",
              "2                                  MARCELINO BASILIO             NaN  Sim   \n",
              "3                        MARCIO ADRIANO SANTOS NUNES             NaN  Não   \n",
              "4  ANTONIO EGENNALES ALVES DE MIRANDA  JONAEL DE ...             NaN  Sim   \n",
              "\n",
              "  Prejuízo_Financeiro  \n",
              "0               918.0  \n",
              "1                 NaN  \n",
              "2                 NaN  \n",
              "3                 NaN  \n",
              "4                 NaN  \n",
              "\n",
              "[5 rows x 28 columns]"
            ]
          },
          "execution_count": 103,
          "metadata": {},
          "output_type": "execute_result"
        }
      ],
      "source": [
        "df.head()"
      ]
    },
    {
      "cell_type": "code",
      "execution_count": 104,
      "metadata": {
        "colab": {
          "base_uri": "https://localhost:8080/"
        },
        "id": "BqoUBdbIsQTy",
        "outputId": "10145dd8-473f-44ae-fcd7-25f98a379fa9"
      },
      "outputs": [
        {
          "data": {
            "text/plain": [
              "Index(['Unnamed: 0', 'Gravidade', 'Concessionaria', 'Data_Ocorrencia',\n",
              "       'Hora_Ocorrencia', 'UF', 'Municipio', 'Linha', 'Quilômetro_Inicial',\n",
              "       'Quilômetro_Final', 'Estação_Anterior', 'Estação_Posterior',\n",
              "       'Perímetro Urbano', 'Causa_direta', 'Causa_contibutiva', 'Natureza',\n",
              "       'Interrupção', 'N_Trem', 'Prefixo', 'Double_Stack',\n",
              "       'Serviço_Transporte', 'N_feridos', 'N_obitos', 'Mercadoria',\n",
              "       'Equipagem', 'Outra_Ferrovia', 'PN', 'Prejuízo_Financeiro'],\n",
              "      dtype='object')"
            ]
          },
          "execution_count": 104,
          "metadata": {},
          "output_type": "execute_result"
        }
      ],
      "source": [
        "df.columns"
      ]
    },
    {
      "cell_type": "code",
      "execution_count": 105,
      "metadata": {
        "id": "b1B7WRqks736"
      },
      "outputs": [],
      "source": [
        "df = df[[\"Data_Ocorrencia\",\"Hora_Ocorrencia\",\"Perímetro Urbano\",\"Causa_direta\",\"Causa_contibutiva\",\"Natureza\",\"Interrupção\",\"N_feridos\",\"N_obitos\",\"Prejuízo_Financeiro\"]]"
      ]
    },
    {
      "cell_type": "code",
      "execution_count": 106,
      "metadata": {
        "colab": {
          "base_uri": "https://localhost:8080/"
        },
        "id": "yGL7Cc1dycmm",
        "outputId": "9664c29e-2d9a-449f-9cfc-b7db093a1572"
      },
      "outputs": [
        {
          "name": "stdout",
          "output_type": "stream",
          "text": [
            "<class 'pandas.core.frame.DataFrame'>\n",
            "RangeIndex: 2973 entries, 0 to 2972\n",
            "Data columns (total 10 columns):\n",
            " #   Column               Non-Null Count  Dtype  \n",
            "---  ------               --------------  -----  \n",
            " 0   Data_Ocorrencia      2973 non-null   object \n",
            " 1   Hora_Ocorrencia      2973 non-null   object \n",
            " 2   Perímetro Urbano     2973 non-null   object \n",
            " 3   Causa_direta         2973 non-null   object \n",
            " 4   Causa_contibutiva    2906 non-null   object \n",
            " 5   Natureza             2973 non-null   object \n",
            " 6   Interrupção          2973 non-null   float64\n",
            " 7   N_feridos            2973 non-null   int64  \n",
            " 8   N_obitos             2973 non-null   int64  \n",
            " 9   Prejuízo_Financeiro  1158 non-null   float64\n",
            "dtypes: float64(2), int64(2), object(6)\n",
            "memory usage: 232.4+ KB\n"
          ]
        }
      ],
      "source": [
        "df.info()"
      ]
    },
    {
      "cell_type": "code",
      "execution_count": 107,
      "metadata": {
        "colab": {
          "base_uri": "https://localhost:8080/"
        },
        "id": "7tWyzzvj24hm",
        "outputId": "c8bd79e6-5570-4206-d2f4-44b4b9ad1735"
      },
      "outputs": [],
      "source": [
        "df[\"Data\"] = df[\"Data_Ocorrencia\"] + \" - \" + df['Hora_Ocorrencia']\n",
        "df.drop([\"Data_Ocorrencia\",\"Hora_Ocorrencia\"], axis=1, inplace=True)\n",
        "coluna = df.pop(\"Data\")\n",
        "df.insert(0, \"Data\", coluna)"
      ]
    },
    {
      "cell_type": "code",
      "execution_count": 108,
      "metadata": {
        "colab": {
          "base_uri": "https://localhost:8080/"
        },
        "id": "U_peHxUTzqrp",
        "outputId": "917d220c-2b1c-487c-d98e-d9077ffb7d36"
      },
      "outputs": [],
      "source": [
        "df[\"Data\"] = pd.to_datetime(df[\"Data\"], format=\"%d/%m/%Y - %H:%M\")"
      ]
    },
    {
      "cell_type": "code",
      "execution_count": 109,
      "metadata": {
        "colab": {
          "base_uri": "https://localhost:8080/"
        },
        "id": "jihDbpLE0IvG",
        "outputId": "0be2d07a-49aa-4165-a234-1fd45adcfa21"
      },
      "outputs": [
        {
          "name": "stdout",
          "output_type": "stream",
          "text": [
            "<class 'pandas.core.frame.DataFrame'>\n",
            "RangeIndex: 2973 entries, 0 to 2972\n",
            "Data columns (total 9 columns):\n",
            " #   Column               Non-Null Count  Dtype         \n",
            "---  ------               --------------  -----         \n",
            " 0   Data                 2973 non-null   datetime64[ns]\n",
            " 1   Perímetro Urbano     2973 non-null   object        \n",
            " 2   Causa_direta         2973 non-null   object        \n",
            " 3   Causa_contibutiva    2906 non-null   object        \n",
            " 4   Natureza             2973 non-null   object        \n",
            " 5   Interrupção          2973 non-null   float64       \n",
            " 6   N_feridos            2973 non-null   int64         \n",
            " 7   N_obitos             2973 non-null   int64         \n",
            " 8   Prejuízo_Financeiro  1158 non-null   float64       \n",
            "dtypes: datetime64[ns](1), float64(2), int64(2), object(4)\n",
            "memory usage: 209.2+ KB\n"
          ]
        }
      ],
      "source": [
        "df.info()"
      ]
    },
    {
      "cell_type": "code",
      "execution_count": 110,
      "metadata": {
        "id": "VXzZGG240M0Y"
      },
      "outputs": [],
      "source": [
        "df.rename(columns={\"Perímetro Urbano\":\"Perimetro_Urbano\", \"Causa_direta\":\"Causa_Direta\",\"Causa_contibutiva\":\"Causa_Contributiva\", \"Interrupção\":\"Interrupcao (h)\", \"N_feridos\":\"N_Feridos\",\"N_obitos\":\"N_Obitos\",\"Prejuízo_Financeiro\":\"Prejuizo (R$)\"}, inplace=True)"
      ]
    },
    {
      "cell_type": "code",
      "execution_count": 111,
      "metadata": {
        "colab": {
          "base_uri": "https://localhost:8080/"
        },
        "id": "Z7m-gUrQ1NL9",
        "outputId": "5686769d-cfef-4ac1-b25a-88233dc44dad"
      },
      "outputs": [
        {
          "name": "stdout",
          "output_type": "stream",
          "text": [
            "<class 'pandas.core.frame.DataFrame'>\n",
            "RangeIndex: 2973 entries, 0 to 2972\n",
            "Data columns (total 9 columns):\n",
            " #   Column              Non-Null Count  Dtype         \n",
            "---  ------              --------------  -----         \n",
            " 0   Data                2973 non-null   datetime64[ns]\n",
            " 1   Perimetro_Urbano    2973 non-null   object        \n",
            " 2   Causa_Direta        2973 non-null   object        \n",
            " 3   Causa_Contributiva  2906 non-null   object        \n",
            " 4   Natureza            2973 non-null   object        \n",
            " 5   Interrupcao (h)     2973 non-null   float64       \n",
            " 6   N_Feridos           2973 non-null   int64         \n",
            " 7   N_Obitos            2973 non-null   int64         \n",
            " 8   Prejuizo (R$)       1158 non-null   float64       \n",
            "dtypes: datetime64[ns](1), float64(2), int64(2), object(4)\n",
            "memory usage: 209.2+ KB\n"
          ]
        }
      ],
      "source": [
        "df.info()"
      ]
    },
    {
      "cell_type": "code",
      "execution_count": 112,
      "metadata": {
        "colab": {
          "base_uri": "https://localhost:8080/",
          "height": 469
        },
        "id": "BCJS7ky01WVQ",
        "outputId": "f74de5ee-5f4a-4797-a978-be52ee1ecc2c"
      },
      "outputs": [
        {
          "data": {
            "text/html": [
              "<div>\n",
              "<style scoped>\n",
              "    .dataframe tbody tr th:only-of-type {\n",
              "        vertical-align: middle;\n",
              "    }\n",
              "\n",
              "    .dataframe tbody tr th {\n",
              "        vertical-align: top;\n",
              "    }\n",
              "\n",
              "    .dataframe thead th {\n",
              "        text-align: right;\n",
              "    }\n",
              "</style>\n",
              "<table border=\"1\" class=\"dataframe\">\n",
              "  <thead>\n",
              "    <tr style=\"text-align: right;\">\n",
              "      <th></th>\n",
              "      <th>Data</th>\n",
              "      <th>Perimetro_Urbano</th>\n",
              "      <th>Causa_Direta</th>\n",
              "      <th>Causa_Contributiva</th>\n",
              "      <th>Natureza</th>\n",
              "      <th>Interrupcao (h)</th>\n",
              "      <th>N_Feridos</th>\n",
              "      <th>N_Obitos</th>\n",
              "      <th>Prejuizo (R$)</th>\n",
              "    </tr>\n",
              "  </thead>\n",
              "  <tbody>\n",
              "    <tr>\n",
              "      <th>0</th>\n",
              "      <td>2020-01-12 16:00:00</td>\n",
              "      <td>Não</td>\n",
              "      <td>Casos Fortuitos ou de Força Maior</td>\n",
              "      <td>Animal na via</td>\n",
              "      <td>Colisão</td>\n",
              "      <td>0.0</td>\n",
              "      <td>0</td>\n",
              "      <td>0</td>\n",
              "      <td>918.0</td>\n",
              "    </tr>\n",
              "    <tr>\n",
              "      <th>1</th>\n",
              "      <td>2020-03-12 11:04:00</td>\n",
              "      <td>.</td>\n",
              "      <td>Casos Fortuitos ou de Força Maior</td>\n",
              "      <td>NaN</td>\n",
              "      <td>Abalroamento</td>\n",
              "      <td>0.0</td>\n",
              "      <td>0</td>\n",
              "      <td>0</td>\n",
              "      <td>NaN</td>\n",
              "    </tr>\n",
              "    <tr>\n",
              "      <th>2</th>\n",
              "      <td>2020-04-12 06:35:00</td>\n",
              "      <td>PN Augusto Spiazzi</td>\n",
              "      <td>Casos Fortuitos ou de Força Maior</td>\n",
              "      <td>NaN</td>\n",
              "      <td>Abalroamento</td>\n",
              "      <td>1.5</td>\n",
              "      <td>0</td>\n",
              "      <td>0</td>\n",
              "      <td>NaN</td>\n",
              "    </tr>\n",
              "    <tr>\n",
              "      <th>3</th>\n",
              "      <td>2020-04-12 20:30:00</td>\n",
              "      <td>Não</td>\n",
              "      <td>Falha Humana</td>\n",
              "      <td>NaN</td>\n",
              "      <td>Colisão</td>\n",
              "      <td>9.0</td>\n",
              "      <td>0</td>\n",
              "      <td>0</td>\n",
              "      <td>NaN</td>\n",
              "    </tr>\n",
              "    <tr>\n",
              "      <th>4</th>\n",
              "      <td>2020-05-12 16:35:00</td>\n",
              "      <td>Não</td>\n",
              "      <td>Via Permanente</td>\n",
              "      <td>NaN</td>\n",
              "      <td>Descarrilamento</td>\n",
              "      <td>28.0</td>\n",
              "      <td>0</td>\n",
              "      <td>0</td>\n",
              "      <td>NaN</td>\n",
              "    </tr>\n",
              "  </tbody>\n",
              "</table>\n",
              "</div>"
            ],
            "text/plain": [
              "                 Data    Perimetro_Urbano                       Causa_Direta  \\\n",
              "0 2020-01-12 16:00:00                 Não  Casos Fortuitos ou de Força Maior   \n",
              "1 2020-03-12 11:04:00                   .  Casos Fortuitos ou de Força Maior   \n",
              "2 2020-04-12 06:35:00  PN Augusto Spiazzi  Casos Fortuitos ou de Força Maior   \n",
              "3 2020-04-12 20:30:00                 Não                       Falha Humana   \n",
              "4 2020-05-12 16:35:00                 Não                     Via Permanente   \n",
              "\n",
              "  Causa_Contributiva         Natureza  Interrupcao (h)  N_Feridos  N_Obitos  \\\n",
              "0      Animal na via          Colisão              0.0          0         0   \n",
              "1                NaN     Abalroamento              0.0          0         0   \n",
              "2                NaN     Abalroamento              1.5          0         0   \n",
              "3                NaN          Colisão              9.0          0         0   \n",
              "4                NaN  Descarrilamento             28.0          0         0   \n",
              "\n",
              "   Prejuizo (R$)  \n",
              "0          918.0  \n",
              "1            NaN  \n",
              "2            NaN  \n",
              "3            NaN  \n",
              "4            NaN  "
            ]
          },
          "execution_count": 112,
          "metadata": {},
          "output_type": "execute_result"
        }
      ],
      "source": [
        "df.head()"
      ]
    },
    {
      "cell_type": "code",
      "execution_count": 113,
      "metadata": {
        "id": "UnJxDVC-2NNo"
      },
      "outputs": [],
      "source": [
        "df['Prejuizo (R$)'] = df['Prejuizo (R$)'].fillna(0)"
      ]
    },
    {
      "cell_type": "code",
      "execution_count": 114,
      "metadata": {
        "colab": {
          "base_uri": "https://localhost:8080/"
        },
        "id": "sm7hSaZa2RtC",
        "outputId": "e5362356-1da0-4fdd-cecc-1bf1ead7b0f8"
      },
      "outputs": [
        {
          "name": "stdout",
          "output_type": "stream",
          "text": [
            "<class 'pandas.core.frame.DataFrame'>\n",
            "RangeIndex: 2973 entries, 0 to 2972\n",
            "Data columns (total 9 columns):\n",
            " #   Column              Non-Null Count  Dtype         \n",
            "---  ------              --------------  -----         \n",
            " 0   Data                2973 non-null   datetime64[ns]\n",
            " 1   Perimetro_Urbano    2973 non-null   object        \n",
            " 2   Causa_Direta        2973 non-null   object        \n",
            " 3   Causa_Contributiva  2906 non-null   object        \n",
            " 4   Natureza            2973 non-null   object        \n",
            " 5   Interrupcao (h)     2973 non-null   float64       \n",
            " 6   N_Feridos           2973 non-null   int64         \n",
            " 7   N_Obitos            2973 non-null   int64         \n",
            " 8   Prejuizo (R$)       2973 non-null   float64       \n",
            "dtypes: datetime64[ns](1), float64(2), int64(2), object(4)\n",
            "memory usage: 209.2+ KB\n"
          ]
        }
      ],
      "source": [
        "df.info()"
      ]
    },
    {
      "cell_type": "code",
      "execution_count": 115,
      "metadata": {
        "colab": {
          "base_uri": "https://localhost:8080/"
        },
        "id": "su8hHdSI4XzW",
        "outputId": "7cf8f469-c48a-41e4-fa9b-8fdbf23e5a4a"
      },
      "outputs": [
        {
          "data": {
            "text/plain": [
              "array(['Não', '.', 'PN Augusto Spiazzi', ..., 'Guarujá', 'Japeri',\n",
              "       'Zona urbana de Maceió'], shape=(1102,), dtype=object)"
            ]
          },
          "execution_count": 115,
          "metadata": {},
          "output_type": "execute_result"
        }
      ],
      "source": [
        "df.Perimetro_Urbano.unique()"
      ]
    },
    {
      "cell_type": "code",
      "execution_count": 116,
      "metadata": {
        "colab": {
          "base_uri": "https://localhost:8080/",
          "height": 570
        },
        "id": "T9TJQU6Q43ft",
        "outputId": "65ca948b-a8c6-4e52-ec03-b7cae18b05e0"
      },
      "outputs": [
        {
          "data": {
            "text/html": [
              "<div>\n",
              "<style scoped>\n",
              "    .dataframe tbody tr th:only-of-type {\n",
              "        vertical-align: middle;\n",
              "    }\n",
              "\n",
              "    .dataframe tbody tr th {\n",
              "        vertical-align: top;\n",
              "    }\n",
              "\n",
              "    .dataframe thead th {\n",
              "        text-align: right;\n",
              "    }\n",
              "</style>\n",
              "<table border=\"1\" class=\"dataframe\">\n",
              "  <thead>\n",
              "    <tr style=\"text-align: right;\">\n",
              "      <th></th>\n",
              "      <th>Data</th>\n",
              "      <th>Perimetro_Urbano</th>\n",
              "      <th>Causa_Direta</th>\n",
              "      <th>Causa_Contributiva</th>\n",
              "      <th>Natureza</th>\n",
              "      <th>Interrupcao (h)</th>\n",
              "      <th>N_Feridos</th>\n",
              "      <th>N_Obitos</th>\n",
              "      <th>Prejuizo (R$)</th>\n",
              "    </tr>\n",
              "  </thead>\n",
              "  <tbody>\n",
              "    <tr>\n",
              "      <th>1</th>\n",
              "      <td>2020-03-12 11:04:00</td>\n",
              "      <td>.</td>\n",
              "      <td>Casos Fortuitos ou de Força Maior</td>\n",
              "      <td>NaN</td>\n",
              "      <td>Abalroamento</td>\n",
              "      <td>0.0</td>\n",
              "      <td>0</td>\n",
              "      <td>0</td>\n",
              "      <td>0.0</td>\n",
              "    </tr>\n",
              "    <tr>\n",
              "      <th>5</th>\n",
              "      <td>2020-05-12 20:20:00</td>\n",
              "      <td>.</td>\n",
              "      <td>Casos Fortuitos ou de Força Maior</td>\n",
              "      <td>NaN</td>\n",
              "      <td>Atropelamento</td>\n",
              "      <td>0.0</td>\n",
              "      <td>1</td>\n",
              "      <td>0</td>\n",
              "      <td>0.0</td>\n",
              "    </tr>\n",
              "    <tr>\n",
              "      <th>12</th>\n",
              "      <td>2020-09-12 19:20:00</td>\n",
              "      <td>.</td>\n",
              "      <td>Via Permanente</td>\n",
              "      <td>NaN</td>\n",
              "      <td>Descarrilamento</td>\n",
              "      <td>12.5</td>\n",
              "      <td>0</td>\n",
              "      <td>0</td>\n",
              "      <td>0.0</td>\n",
              "    </tr>\n",
              "    <tr>\n",
              "      <th>39</th>\n",
              "      <td>2020-12-22 16:54:00</td>\n",
              "      <td>.</td>\n",
              "      <td>Casos Fortuitos ou de Força Maior</td>\n",
              "      <td>NaN</td>\n",
              "      <td>Atropelamento</td>\n",
              "      <td>0.0</td>\n",
              "      <td>0</td>\n",
              "      <td>1</td>\n",
              "      <td>0.0</td>\n",
              "    </tr>\n",
              "    <tr>\n",
              "      <th>51</th>\n",
              "      <td>2020-12-27 23:03:00</td>\n",
              "      <td>.</td>\n",
              "      <td>Casos Fortuitos ou de Força Maior</td>\n",
              "      <td>NaN</td>\n",
              "      <td>Abalroamento</td>\n",
              "      <td>0.2</td>\n",
              "      <td>0</td>\n",
              "      <td>0</td>\n",
              "      <td>0.0</td>\n",
              "    </tr>\n",
              "    <tr>\n",
              "      <th>56</th>\n",
              "      <td>2020-12-31 21:00:00</td>\n",
              "      <td>.</td>\n",
              "      <td>Casos Fortuitos ou de Força Maior</td>\n",
              "      <td>NaN</td>\n",
              "      <td>Abalroamento</td>\n",
              "      <td>0.0</td>\n",
              "      <td>0</td>\n",
              "      <td>1</td>\n",
              "      <td>0.0</td>\n",
              "    </tr>\n",
              "  </tbody>\n",
              "</table>\n",
              "</div>"
            ],
            "text/plain": [
              "                  Data Perimetro_Urbano                       Causa_Direta  \\\n",
              "1  2020-03-12 11:04:00                .  Casos Fortuitos ou de Força Maior   \n",
              "5  2020-05-12 20:20:00                .  Casos Fortuitos ou de Força Maior   \n",
              "12 2020-09-12 19:20:00                .                     Via Permanente   \n",
              "39 2020-12-22 16:54:00                .  Casos Fortuitos ou de Força Maior   \n",
              "51 2020-12-27 23:03:00                .  Casos Fortuitos ou de Força Maior   \n",
              "56 2020-12-31 21:00:00                .  Casos Fortuitos ou de Força Maior   \n",
              "\n",
              "   Causa_Contributiva         Natureza  Interrupcao (h)  N_Feridos  N_Obitos  \\\n",
              "1                 NaN     Abalroamento              0.0          0         0   \n",
              "5                 NaN    Atropelamento              0.0          1         0   \n",
              "12                NaN  Descarrilamento             12.5          0         0   \n",
              "39                NaN    Atropelamento              0.0          0         1   \n",
              "51                NaN     Abalroamento              0.2          0         0   \n",
              "56                NaN     Abalroamento              0.0          0         1   \n",
              "\n",
              "    Prejuizo (R$)  \n",
              "1             0.0  \n",
              "5             0.0  \n",
              "12            0.0  \n",
              "39            0.0  \n",
              "51            0.0  \n",
              "56            0.0  "
            ]
          },
          "execution_count": 116,
          "metadata": {},
          "output_type": "execute_result"
        }
      ],
      "source": [
        "df.query(\"Perimetro_Urbano == '.'\")"
      ]
    },
    {
      "cell_type": "code",
      "execution_count": 117,
      "metadata": {
        "id": "b_x47dHv57Gg"
      },
      "outputs": [],
      "source": [
        "df = df[df[\"Perimetro_Urbano\"] != \".\"].reset_index(drop=True)"
      ]
    },
    {
      "cell_type": "code",
      "execution_count": 118,
      "metadata": {
        "id": "2avsl3Ek6NXn"
      },
      "outputs": [],
      "source": [
        "df['Causa_Contributiva'] = df[\"Causa_Contributiva\"].fillna(\"Não Informado\")"
      ]
    },
    {
      "cell_type": "code",
      "execution_count": 119,
      "metadata": {
        "colab": {
          "base_uri": "https://localhost:8080/"
        },
        "id": "z5vwrd566bN5",
        "outputId": "69778365-dd18-4b1b-a4c7-ec51835f4e2c"
      },
      "outputs": [
        {
          "name": "stdout",
          "output_type": "stream",
          "text": [
            "<class 'pandas.core.frame.DataFrame'>\n",
            "RangeIndex: 2967 entries, 0 to 2966\n",
            "Data columns (total 9 columns):\n",
            " #   Column              Non-Null Count  Dtype         \n",
            "---  ------              --------------  -----         \n",
            " 0   Data                2967 non-null   datetime64[ns]\n",
            " 1   Perimetro_Urbano    2967 non-null   object        \n",
            " 2   Causa_Direta        2967 non-null   object        \n",
            " 3   Causa_Contributiva  2967 non-null   object        \n",
            " 4   Natureza            2967 non-null   object        \n",
            " 5   Interrupcao (h)     2967 non-null   float64       \n",
            " 6   N_Feridos           2967 non-null   int64         \n",
            " 7   N_Obitos            2967 non-null   int64         \n",
            " 8   Prejuizo (R$)       2967 non-null   float64       \n",
            "dtypes: datetime64[ns](1), float64(2), int64(2), object(4)\n",
            "memory usage: 208.7+ KB\n"
          ]
        }
      ],
      "source": [
        "df.info()"
      ]
    },
    {
      "cell_type": "code",
      "execution_count": 120,
      "metadata": {
        "colab": {
          "base_uri": "https://localhost:8080/",
          "height": 878
        },
        "id": "qTghbJbI4tEf",
        "outputId": "dd9e5ac0-09ff-4cb8-f8fe-f7f3561ddbee"
      },
      "outputs": [
        {
          "data": {
            "text/html": [
              "<div>\n",
              "<style scoped>\n",
              "    .dataframe tbody tr th:only-of-type {\n",
              "        vertical-align: middle;\n",
              "    }\n",
              "\n",
              "    .dataframe tbody tr th {\n",
              "        vertical-align: top;\n",
              "    }\n",
              "\n",
              "    .dataframe thead th {\n",
              "        text-align: right;\n",
              "    }\n",
              "</style>\n",
              "<table border=\"1\" class=\"dataframe\">\n",
              "  <thead>\n",
              "    <tr style=\"text-align: right;\">\n",
              "      <th></th>\n",
              "      <th>Data</th>\n",
              "      <th>Perimetro_Urbano</th>\n",
              "      <th>Causa_Direta</th>\n",
              "      <th>Causa_Contributiva</th>\n",
              "      <th>Natureza</th>\n",
              "      <th>Interrupcao (h)</th>\n",
              "      <th>N_Feridos</th>\n",
              "      <th>N_Obitos</th>\n",
              "      <th>Prejuizo (R$)</th>\n",
              "    </tr>\n",
              "  </thead>\n",
              "  <tbody>\n",
              "    <tr>\n",
              "      <th>0</th>\n",
              "      <td>2020-01-12 16:00:00</td>\n",
              "      <td>Não</td>\n",
              "      <td>Casos Fortuitos ou de Força Maior</td>\n",
              "      <td>Animal na via</td>\n",
              "      <td>Colisão</td>\n",
              "      <td>0.0</td>\n",
              "      <td>0</td>\n",
              "      <td>0</td>\n",
              "      <td>918.0</td>\n",
              "    </tr>\n",
              "    <tr>\n",
              "      <th>1</th>\n",
              "      <td>2020-04-12 06:35:00</td>\n",
              "      <td>PN Augusto Spiazzi</td>\n",
              "      <td>Casos Fortuitos ou de Força Maior</td>\n",
              "      <td>Não Informado</td>\n",
              "      <td>Abalroamento</td>\n",
              "      <td>1.5</td>\n",
              "      <td>0</td>\n",
              "      <td>0</td>\n",
              "      <td>0.0</td>\n",
              "    </tr>\n",
              "    <tr>\n",
              "      <th>2</th>\n",
              "      <td>2020-04-12 20:30:00</td>\n",
              "      <td>Não</td>\n",
              "      <td>Falha Humana</td>\n",
              "      <td>Não Informado</td>\n",
              "      <td>Colisão</td>\n",
              "      <td>9.0</td>\n",
              "      <td>0</td>\n",
              "      <td>0</td>\n",
              "      <td>0.0</td>\n",
              "    </tr>\n",
              "    <tr>\n",
              "      <th>3</th>\n",
              "      <td>2020-05-12 16:35:00</td>\n",
              "      <td>Não</td>\n",
              "      <td>Via Permanente</td>\n",
              "      <td>Não Informado</td>\n",
              "      <td>Descarrilamento</td>\n",
              "      <td>28.0</td>\n",
              "      <td>0</td>\n",
              "      <td>0</td>\n",
              "      <td>0.0</td>\n",
              "    </tr>\n",
              "    <tr>\n",
              "      <th>4</th>\n",
              "      <td>2020-06-12 07:08:00</td>\n",
              "      <td>trecho corrido</td>\n",
              "      <td>Casos Fortuitos ou de Força Maior</td>\n",
              "      <td>Não Informado</td>\n",
              "      <td>Atropelamento</td>\n",
              "      <td>1.4</td>\n",
              "      <td>1</td>\n",
              "      <td>0</td>\n",
              "      <td>0.0</td>\n",
              "    </tr>\n",
              "    <tr>\n",
              "      <th>...</th>\n",
              "      <td>...</td>\n",
              "      <td>...</td>\n",
              "      <td>...</td>\n",
              "      <td>...</td>\n",
              "      <td>...</td>\n",
              "      <td>...</td>\n",
              "      <td>...</td>\n",
              "      <td>...</td>\n",
              "      <td>...</td>\n",
              "    </tr>\n",
              "    <tr>\n",
              "      <th>2962</th>\n",
              "      <td>2024-12-29 22:29:00</td>\n",
              "      <td>Não</td>\n",
              "      <td>Casos Fortuitos ou de Força Maior</td>\n",
              "      <td>Ação humana involuntária</td>\n",
              "      <td>Descarrilamento</td>\n",
              "      <td>0.0</td>\n",
              "      <td>0</td>\n",
              "      <td>0</td>\n",
              "      <td>0.0</td>\n",
              "    </tr>\n",
              "    <tr>\n",
              "      <th>2963</th>\n",
              "      <td>2024-12-30 07:40:00</td>\n",
              "      <td>Não</td>\n",
              "      <td>Via Permanente</td>\n",
              "      <td>Outras causas de via permanente</td>\n",
              "      <td>Descarrilamento</td>\n",
              "      <td>10.0</td>\n",
              "      <td>0</td>\n",
              "      <td>0</td>\n",
              "      <td>0.0</td>\n",
              "    </tr>\n",
              "    <tr>\n",
              "      <th>2964</th>\n",
              "      <td>2024-12-30 14:31:00</td>\n",
              "      <td>Não</td>\n",
              "      <td>Via Permanente</td>\n",
              "      <td>Fixação deficiente</td>\n",
              "      <td>Descarrilamento</td>\n",
              "      <td>47.5</td>\n",
              "      <td>0</td>\n",
              "      <td>0</td>\n",
              "      <td>0.0</td>\n",
              "    </tr>\n",
              "    <tr>\n",
              "      <th>2965</th>\n",
              "      <td>2024-12-30 14:50:00</td>\n",
              "      <td>Não</td>\n",
              "      <td>Interferência de Terceiro</td>\n",
              "      <td>Falta de atenção à circulação (por terceiros),...</td>\n",
              "      <td>Abalroamento</td>\n",
              "      <td>0.0</td>\n",
              "      <td>0</td>\n",
              "      <td>0</td>\n",
              "      <td>0.0</td>\n",
              "    </tr>\n",
              "    <tr>\n",
              "      <th>2966</th>\n",
              "      <td>2024-12-31 06:30:00</td>\n",
              "      <td>Não</td>\n",
              "      <td>Material Rodante</td>\n",
              "      <td>Outras causas de material rodante</td>\n",
              "      <td>Descarrilamento</td>\n",
              "      <td>0.0</td>\n",
              "      <td>0</td>\n",
              "      <td>0</td>\n",
              "      <td>0.0</td>\n",
              "    </tr>\n",
              "  </tbody>\n",
              "</table>\n",
              "<p>2967 rows × 9 columns</p>\n",
              "</div>"
            ],
            "text/plain": [
              "                    Data    Perimetro_Urbano  \\\n",
              "0    2020-01-12 16:00:00                 Não   \n",
              "1    2020-04-12 06:35:00  PN Augusto Spiazzi   \n",
              "2    2020-04-12 20:30:00                 Não   \n",
              "3    2020-05-12 16:35:00                 Não   \n",
              "4    2020-06-12 07:08:00      trecho corrido   \n",
              "...                  ...                 ...   \n",
              "2962 2024-12-29 22:29:00                 Não   \n",
              "2963 2024-12-30 07:40:00                 Não   \n",
              "2964 2024-12-30 14:31:00                 Não   \n",
              "2965 2024-12-30 14:50:00                 Não   \n",
              "2966 2024-12-31 06:30:00                 Não   \n",
              "\n",
              "                           Causa_Direta  \\\n",
              "0     Casos Fortuitos ou de Força Maior   \n",
              "1     Casos Fortuitos ou de Força Maior   \n",
              "2                          Falha Humana   \n",
              "3                        Via Permanente   \n",
              "4     Casos Fortuitos ou de Força Maior   \n",
              "...                                 ...   \n",
              "2962  Casos Fortuitos ou de Força Maior   \n",
              "2963                     Via Permanente   \n",
              "2964                     Via Permanente   \n",
              "2965          Interferência de Terceiro   \n",
              "2966                   Material Rodante   \n",
              "\n",
              "                                     Causa_Contributiva         Natureza  \\\n",
              "0                                         Animal na via          Colisão   \n",
              "1                                         Não Informado     Abalroamento   \n",
              "2                                         Não Informado          Colisão   \n",
              "3                                         Não Informado  Descarrilamento   \n",
              "4                                         Não Informado    Atropelamento   \n",
              "...                                                 ...              ...   \n",
              "2962                           Ação humana involuntária  Descarrilamento   \n",
              "2963                    Outras causas de via permanente  Descarrilamento   \n",
              "2964                                 Fixação deficiente  Descarrilamento   \n",
              "2965  Falta de atenção à circulação (por terceiros),...     Abalroamento   \n",
              "2966                  Outras causas de material rodante  Descarrilamento   \n",
              "\n",
              "      Interrupcao (h)  N_Feridos  N_Obitos  Prejuizo (R$)  \n",
              "0                 0.0          0         0          918.0  \n",
              "1                 1.5          0         0            0.0  \n",
              "2                 9.0          0         0            0.0  \n",
              "3                28.0          0         0            0.0  \n",
              "4                 1.4          1         0            0.0  \n",
              "...               ...        ...       ...            ...  \n",
              "2962              0.0          0         0            0.0  \n",
              "2963             10.0          0         0            0.0  \n",
              "2964             47.5          0         0            0.0  \n",
              "2965              0.0          0         0            0.0  \n",
              "2966              0.0          0         0            0.0  \n",
              "\n",
              "[2967 rows x 9 columns]"
            ]
          },
          "execution_count": 120,
          "metadata": {},
          "output_type": "execute_result"
        }
      ],
      "source": [
        "df = df.sort_values(\"Data\", ascending=True)\n",
        "df"
      ]
    },
    {
      "cell_type": "code",
      "execution_count": 121,
      "metadata": {
        "id": "mLBPYtyEcXdv"
      },
      "outputs": [],
      "source": [
        "df.to_csv(\"../data/base_dados_limpa.csv\", index=False)"
      ]
    },
    {
      "cell_type": "markdown",
      "metadata": {
        "id": "ob2JmNau30VU"
      },
      "source": [
        "## Criando gráficos"
      ]
    },
    {
      "cell_type": "markdown",
      "metadata": {
        "id": "Os8cEiIJ5A-3"
      },
      "source": [
        "### 1° Gráfico\n",
        "Natureza X Interrupção"
      ]
    },
    {
      "cell_type": "code",
      "execution_count": 122,
      "metadata": {
        "colab": {
          "base_uri": "https://localhost:8080/",
          "height": 206
        },
        "id": "uJFb_JJz4LRC",
        "outputId": "95a0fb2a-c632-4fb9-9d2b-a73d24006bc5"
      },
      "outputs": [
        {
          "data": {
            "text/html": [
              "<div>\n",
              "<style scoped>\n",
              "    .dataframe tbody tr th:only-of-type {\n",
              "        vertical-align: middle;\n",
              "    }\n",
              "\n",
              "    .dataframe tbody tr th {\n",
              "        vertical-align: top;\n",
              "    }\n",
              "\n",
              "    .dataframe thead th {\n",
              "        text-align: right;\n",
              "    }\n",
              "</style>\n",
              "<table border=\"1\" class=\"dataframe\">\n",
              "  <thead>\n",
              "    <tr style=\"text-align: right;\">\n",
              "      <th></th>\n",
              "      <th>Natureza</th>\n",
              "      <th>Interrupcao (h)</th>\n",
              "    </tr>\n",
              "  </thead>\n",
              "  <tbody>\n",
              "    <tr>\n",
              "      <th>0</th>\n",
              "      <td>Abalroamento</td>\n",
              "      <td>1.138406</td>\n",
              "    </tr>\n",
              "    <tr>\n",
              "      <th>4</th>\n",
              "      <td>Incêndio</td>\n",
              "      <td>1.819048</td>\n",
              "    </tr>\n",
              "    <tr>\n",
              "      <th>1</th>\n",
              "      <td>Atropelamento</td>\n",
              "      <td>1.850104</td>\n",
              "    </tr>\n",
              "    <tr>\n",
              "      <th>2</th>\n",
              "      <td>Colisão</td>\n",
              "      <td>4.564865</td>\n",
              "    </tr>\n",
              "    <tr>\n",
              "      <th>3</th>\n",
              "      <td>Descarrilamento</td>\n",
              "      <td>12.520085</td>\n",
              "    </tr>\n",
              "  </tbody>\n",
              "</table>\n",
              "</div>"
            ],
            "text/plain": [
              "          Natureza  Interrupcao (h)\n",
              "0     Abalroamento         1.138406\n",
              "4         Incêndio         1.819048\n",
              "1    Atropelamento         1.850104\n",
              "2          Colisão         4.564865\n",
              "3  Descarrilamento        12.520085"
            ]
          },
          "execution_count": 122,
          "metadata": {},
          "output_type": "execute_result"
        }
      ],
      "source": [
        "df_por_natureza = df.copy().groupby(\"Natureza\")[\"Interrupcao (h)\"].mean().reset_index().sort_values(\"Interrupcao (h)\", ascending=True)\n",
        "df_por_natureza"
      ]
    },
    {
      "cell_type": "code",
      "execution_count": 123,
      "metadata": {
        "colab": {
          "base_uri": "https://localhost:8080/",
          "height": 417
        },
        "id": "-bHowCw25hDP",
        "outputId": "7fc99e1b-afcb-4509-9185-c8e0ff30d42e"
      },
      "outputs": [
        {
          "data": {
            "image/png": "[encoded data removed]",
            "text/plain": [
              "<Figure size 800x400 with 1 Axes>"
            ]
          },
          "metadata": {},
          "output_type": "display_data"
        }
      ],
      "source": [
        "plt.figure(figsize=(8, 4))\n",
        "\n",
        "ax = sns.barplot(df_por_natureza, x=\"Natureza\", y=\"Interrupcao (h)\", hue=\"Natureza\", legend=False, width=0.6, palette=[\"#15c2cc\",\"#25b282\",\"#6e9827\",\"#a46f00\",\"#cc1e15\"])\n",
        "\n",
        "ax.set_title(\"Interrupção(h) por Natureza do acidente\", fontsize=16)\n",
        "ax.set_xlabel(\"Natureza\", fontsize=14)\n",
        "ax.set_ylabel(\"\")\n",
        "\n",
        "for i, value in enumerate(df_por_natureza[\"Interrupcao (h)\"].round(2)):\n",
        "    ax.text(i, value, str(value) + \" h\", ha=\"center\", va=\"bottom\", fontsize=12)\n",
        "\n",
        "sns.despine()\n",
        "ax.grid(which=\"both\", axis=\"y\", alpha=0.5)\n",
        "\n",
        "plt.savefig(\"../dataviz/grafico-interrupcaoXnatureza.png\", dpi=300, bbox_inches=\"tight\")"
      ]
    },
    {
      "cell_type": "markdown",
      "metadata": {
        "id": "HntONZd-DHEI"
      },
      "source": [
        "### 2° Gráfico\n",
        "Numero de feridos e obitos X natureza"
      ]
    },
    {
      "cell_type": "code",
      "execution_count": 124,
      "metadata": {
        "colab": {
          "base_uri": "https://localhost:8080/",
          "height": 238
        },
        "id": "-9IGCqQ1DGiP",
        "outputId": "7f39ce88-863d-4eb3-f064-8b4df7da8897"
      },
      "outputs": [
        {
          "data": {
            "text/html": [
              "<div>\n",
              "<style scoped>\n",
              "    .dataframe tbody tr th:only-of-type {\n",
              "        vertical-align: middle;\n",
              "    }\n",
              "\n",
              "    .dataframe tbody tr th {\n",
              "        vertical-align: top;\n",
              "    }\n",
              "\n",
              "    .dataframe thead th {\n",
              "        text-align: right;\n",
              "    }\n",
              "</style>\n",
              "<table border=\"1\" class=\"dataframe\">\n",
              "  <thead>\n",
              "    <tr style=\"text-align: right;\">\n",
              "      <th></th>\n",
              "      <th>index</th>\n",
              "      <th>Categoria</th>\n",
              "      <th>Valor</th>\n",
              "    </tr>\n",
              "  </thead>\n",
              "  <tbody>\n",
              "    <tr>\n",
              "      <th>0</th>\n",
              "      <td>N_Feridos</td>\n",
              "      <td>Abalroamento</td>\n",
              "      <td>389</td>\n",
              "    </tr>\n",
              "    <tr>\n",
              "      <th>1</th>\n",
              "      <td>N_Obitos</td>\n",
              "      <td>Abalroamento</td>\n",
              "      <td>42</td>\n",
              "    </tr>\n",
              "    <tr>\n",
              "      <th>2</th>\n",
              "      <td>N_Feridos</td>\n",
              "      <td>Atropelamento</td>\n",
              "      <td>563</td>\n",
              "    </tr>\n",
              "    <tr>\n",
              "      <th>3</th>\n",
              "      <td>N_Obitos</td>\n",
              "      <td>Atropelamento</td>\n",
              "      <td>413</td>\n",
              "    </tr>\n",
              "    <tr>\n",
              "      <th>4</th>\n",
              "      <td>N_Feridos</td>\n",
              "      <td>Outros</td>\n",
              "      <td>50</td>\n",
              "    </tr>\n",
              "    <tr>\n",
              "      <th>5</th>\n",
              "      <td>N_Obitos</td>\n",
              "      <td>Outros</td>\n",
              "      <td>1</td>\n",
              "    </tr>\n",
              "  </tbody>\n",
              "</table>\n",
              "</div>"
            ],
            "text/plain": [
              "       index      Categoria  Valor\n",
              "0  N_Feridos   Abalroamento    389\n",
              "1   N_Obitos   Abalroamento     42\n",
              "2  N_Feridos  Atropelamento    563\n",
              "3   N_Obitos  Atropelamento    413\n",
              "4  N_Feridos         Outros     50\n",
              "5   N_Obitos         Outros      1"
            ]
          },
          "execution_count": 124,
          "metadata": {},
          "output_type": "execute_result"
        }
      ],
      "source": [
        "vitimas_por_natureza = df.copy()[[\"Natureza\",\"N_Feridos\",\"N_Obitos\"]].groupby(\"Natureza\").sum().T\n",
        "vitimas_por_natureza[\"Outros\"] = vitimas_por_natureza[\"Colisão\"] + vitimas_por_natureza['Descarrilamento'] + vitimas_por_natureza[\"Incêndio\"]\n",
        "vitimas_por_natureza.pop(\"Colisão\")\n",
        "vitimas_por_natureza.pop(\"Descarrilamento\")\n",
        "vitimas_por_natureza.pop(\"Incêndio\")\n",
        "vitimas_por_natureza = vitimas_por_natureza.reset_index().melt(id_vars='index', var_name='Categoria', value_name='Valor')\n",
        "vitimas_por_natureza"
      ]
    },
    {
      "cell_type": "code",
      "execution_count": 125,
      "metadata": {
        "colab": {
          "base_uri": "https://localhost:8080/",
          "height": 507
        },
        "id": "52En8iAZFFhp",
        "outputId": "ad6c0d50-f69e-4822-ca77-70f0cd7f7fb8"
      },
      "outputs": [
        {
          "name": "stderr",
          "output_type": "stream",
          "text": [
            "C:\\Users\\joaov\\AppData\\Local\\Temp\\ipykernel_8552\\2963252918.py:8: UserWarning: set_ticklabels() should only be used with a fixed number of ticks, i.e. after set_ticks() or using a FixedLocator.\n",
            "  ax.yaxis.set_ticklabels([\"Feridos\",\"Óbitos\"])\n"
          ]
        },
        {
          "data": {
            "image/png": "[encoded data removed]",
            "text/plain": [
              "<Figure size 640x480 with 1 Axes>"
            ]
          },
          "metadata": {},
          "output_type": "display_data"
        }
      ],
      "source": [
        "ax = sns.barplot(x='Valor', y='index', hue='Categoria', data=vitimas_por_natureza, orient='h', palette='tab10')\n",
        "\n",
        "ax.set_title(\"Número de vitimas X Natureza do Acidente\")\n",
        "ax.set_xlabel(\"\")\n",
        "ax.set_ylabel(\"\")\n",
        "ax.grid(which=\"major\",axis=\"x\", alpha=0.5)\n",
        "\n",
        "ax.yaxis.set_ticklabels([\"Feridos\",\"Óbitos\"])\n",
        "\n",
        "sns.despine(left=True)\n",
        "plt.savefig(\"../dataviz/grafico-vitimasXnatureza.png\", dpi=300, bbox_inches=\"tight\")"
      ]
    },
    {
      "cell_type": "markdown",
      "metadata": {
        "id": "7duIlRPgczRL"
      },
      "source": [
        "### 3° Gráfico\n",
        "\n",
        "Causa X Interrupção"
      ]
    },
    {
      "cell_type": "code",
      "execution_count": 126,
      "metadata": {
        "colab": {
          "base_uri": "https://localhost:8080/",
          "height": 458
        },
        "id": "YBSQPTu76Rhh",
        "outputId": "d150d873-e0a3-481a-ad21-dededa0f9512"
      },
      "outputs": [
        {
          "data": {
            "text/plain": [
              "0      2020-01-12 16:00:00\n",
              "1      2020-04-12 06:35:00\n",
              "2      2020-04-12 20:30:00\n",
              "3      2020-05-12 16:35:00\n",
              "4      2020-06-12 07:08:00\n",
              "               ...        \n",
              "2962   2024-12-29 22:29:00\n",
              "2963   2024-12-30 07:40:00\n",
              "2964   2024-12-30 14:31:00\n",
              "2965   2024-12-30 14:50:00\n",
              "2966   2024-12-31 06:30:00\n",
              "Name: Data, Length: 2967, dtype: datetime64[ns]"
            ]
          },
          "execution_count": 126,
          "metadata": {},
          "output_type": "execute_result"
        }
      ],
      "source": [
        "causa_por_interrupcao = df.copy()[[\"Causa_Direta\",\"Interrupcao (h)\",\"Data\"]]\n",
        "causa_por_interrupcao[\"Ano\"] = causa_por_interrupcao['Data'].dt.year\n",
        "causa_por_interrupcao.pop(\"Data\")"
      ]
    },
    {
      "cell_type": "code",
      "execution_count": 127,
      "metadata": {
        "colab": {
          "base_uri": "https://localhost:8080/",
          "height": 360
        },
        "id": "gU4ZjcBEG1Zq",
        "outputId": "502d010d-732e-406e-bb03-29f850fecff9"
      },
      "outputs": [
        {
          "data": {
            "image/png": "[encoded data removed]",
            "text/plain": [
              "<Figure size 1000x500 with 1 Axes>"
            ]
          },
          "metadata": {},
          "output_type": "display_data"
        }
      ],
      "source": [
        "plt.figure(figsize=(10,5))\n",
        "\n",
        "ax = sns.lineplot(causa_por_interrupcao, x=\"Ano\", y=\"Interrupcao (h)\", hue=\"Causa_Direta\", errorbar=None, lw=2)\n",
        "plt.legend(loc=\"best\", bbox_to_anchor=(1,1))\n",
        "plt.title(\"Tempo de interrupção (h) anual por tipo de causa direta\", fontsize=18)\n",
        "plt.xticks(ticks=[ano for ano in range(2020, 2025)], labels=[ano for ano in range(2020, 2025)])\n",
        "plt.xlabel(\"\")\n",
        "plt.ylabel(\"Horas\", fontsize=13)\n",
        "plt.grid()\n",
        "\n",
        "sns.despine()\n",
        "\n",
        "plt.savefig(\"../dataviz/grafico-interrupcao_anualXcausa_direta.png\", dpi=300, bbox_inches=\"tight\")"
      ]
    },
    {
      "cell_type": "markdown",
      "metadata": {
        "id": "DirjmzzDq0pX"
      },
      "source": [
        "### 4° Gráfico\n",
        "\n",
        "Ocorrencias anuais X mes"
      ]
    },
    {
      "cell_type": "code",
      "execution_count": 128,
      "metadata": {
        "colab": {
          "base_uri": "https://localhost:8080/",
          "height": 1000
        },
        "id": "hbb04PfMq364",
        "outputId": "fc25e601-acbb-4a88-c60a-44aab42bf1c6"
      },
      "outputs": [
        {
          "data": {
            "text/html": [
              "<div>\n",
              "<style scoped>\n",
              "    .dataframe tbody tr th:only-of-type {\n",
              "        vertical-align: middle;\n",
              "    }\n",
              "\n",
              "    .dataframe tbody tr th {\n",
              "        vertical-align: top;\n",
              "    }\n",
              "\n",
              "    .dataframe thead th {\n",
              "        text-align: right;\n",
              "    }\n",
              "</style>\n",
              "<table border=\"1\" class=\"dataframe\">\n",
              "  <thead>\n",
              "    <tr style=\"text-align: right;\">\n",
              "      <th></th>\n",
              "      <th>Ano</th>\n",
              "      <th>Mês</th>\n",
              "      <th>0</th>\n",
              "    </tr>\n",
              "  </thead>\n",
              "  <tbody>\n",
              "    <tr>\n",
              "      <th>10</th>\n",
              "      <td>2021</td>\n",
              "      <td>Jan</td>\n",
              "      <td>48</td>\n",
              "    </tr>\n",
              "    <tr>\n",
              "      <th>11</th>\n",
              "      <td>2021</td>\n",
              "      <td>Fev</td>\n",
              "      <td>63</td>\n",
              "    </tr>\n",
              "    <tr>\n",
              "      <th>12</th>\n",
              "      <td>2021</td>\n",
              "      <td>Mar</td>\n",
              "      <td>59</td>\n",
              "    </tr>\n",
              "    <tr>\n",
              "      <th>13</th>\n",
              "      <td>2021</td>\n",
              "      <td>Abr</td>\n",
              "      <td>64</td>\n",
              "    </tr>\n",
              "    <tr>\n",
              "      <th>14</th>\n",
              "      <td>2021</td>\n",
              "      <td>Mai</td>\n",
              "      <td>59</td>\n",
              "    </tr>\n",
              "    <tr>\n",
              "      <th>15</th>\n",
              "      <td>2021</td>\n",
              "      <td>Jun</td>\n",
              "      <td>71</td>\n",
              "    </tr>\n",
              "    <tr>\n",
              "      <th>16</th>\n",
              "      <td>2021</td>\n",
              "      <td>Jul</td>\n",
              "      <td>69</td>\n",
              "    </tr>\n",
              "    <tr>\n",
              "      <th>17</th>\n",
              "      <td>2021</td>\n",
              "      <td>Ago</td>\n",
              "      <td>65</td>\n",
              "    </tr>\n",
              "    <tr>\n",
              "      <th>18</th>\n",
              "      <td>2021</td>\n",
              "      <td>Set</td>\n",
              "      <td>61</td>\n",
              "    </tr>\n",
              "    <tr>\n",
              "      <th>19</th>\n",
              "      <td>2021</td>\n",
              "      <td>Out</td>\n",
              "      <td>70</td>\n",
              "    </tr>\n",
              "    <tr>\n",
              "      <th>20</th>\n",
              "      <td>2021</td>\n",
              "      <td>Nov</td>\n",
              "      <td>59</td>\n",
              "    </tr>\n",
              "    <tr>\n",
              "      <th>21</th>\n",
              "      <td>2021</td>\n",
              "      <td>Dez</td>\n",
              "      <td>58</td>\n",
              "    </tr>\n",
              "    <tr>\n",
              "      <th>22</th>\n",
              "      <td>2022</td>\n",
              "      <td>Jan</td>\n",
              "      <td>48</td>\n",
              "    </tr>\n",
              "    <tr>\n",
              "      <th>23</th>\n",
              "      <td>2022</td>\n",
              "      <td>Fev</td>\n",
              "      <td>48</td>\n",
              "    </tr>\n",
              "    <tr>\n",
              "      <th>24</th>\n",
              "      <td>2022</td>\n",
              "      <td>Mar</td>\n",
              "      <td>65</td>\n",
              "    </tr>\n",
              "    <tr>\n",
              "      <th>25</th>\n",
              "      <td>2022</td>\n",
              "      <td>Abr</td>\n",
              "      <td>72</td>\n",
              "    </tr>\n",
              "    <tr>\n",
              "      <th>26</th>\n",
              "      <td>2022</td>\n",
              "      <td>Mai</td>\n",
              "      <td>72</td>\n",
              "    </tr>\n",
              "    <tr>\n",
              "      <th>27</th>\n",
              "      <td>2022</td>\n",
              "      <td>Jun</td>\n",
              "      <td>71</td>\n",
              "    </tr>\n",
              "    <tr>\n",
              "      <th>28</th>\n",
              "      <td>2022</td>\n",
              "      <td>Jul</td>\n",
              "      <td>74</td>\n",
              "    </tr>\n",
              "    <tr>\n",
              "      <th>29</th>\n",
              "      <td>2022</td>\n",
              "      <td>Ago</td>\n",
              "      <td>60</td>\n",
              "    </tr>\n",
              "    <tr>\n",
              "      <th>30</th>\n",
              "      <td>2022</td>\n",
              "      <td>Set</td>\n",
              "      <td>66</td>\n",
              "    </tr>\n",
              "    <tr>\n",
              "      <th>31</th>\n",
              "      <td>2022</td>\n",
              "      <td>Out</td>\n",
              "      <td>84</td>\n",
              "    </tr>\n",
              "    <tr>\n",
              "      <th>32</th>\n",
              "      <td>2022</td>\n",
              "      <td>Nov</td>\n",
              "      <td>68</td>\n",
              "    </tr>\n",
              "    <tr>\n",
              "      <th>33</th>\n",
              "      <td>2022</td>\n",
              "      <td>Dez</td>\n",
              "      <td>54</td>\n",
              "    </tr>\n",
              "    <tr>\n",
              "      <th>34</th>\n",
              "      <td>2023</td>\n",
              "      <td>Jan</td>\n",
              "      <td>62</td>\n",
              "    </tr>\n",
              "    <tr>\n",
              "      <th>35</th>\n",
              "      <td>2023</td>\n",
              "      <td>Fev</td>\n",
              "      <td>54</td>\n",
              "    </tr>\n",
              "    <tr>\n",
              "      <th>36</th>\n",
              "      <td>2023</td>\n",
              "      <td>Mar</td>\n",
              "      <td>59</td>\n",
              "    </tr>\n",
              "    <tr>\n",
              "      <th>37</th>\n",
              "      <td>2023</td>\n",
              "      <td>Abr</td>\n",
              "      <td>58</td>\n",
              "    </tr>\n",
              "    <tr>\n",
              "      <th>38</th>\n",
              "      <td>2023</td>\n",
              "      <td>Mai</td>\n",
              "      <td>63</td>\n",
              "    </tr>\n",
              "    <tr>\n",
              "      <th>39</th>\n",
              "      <td>2023</td>\n",
              "      <td>Jun</td>\n",
              "      <td>62</td>\n",
              "    </tr>\n",
              "    <tr>\n",
              "      <th>40</th>\n",
              "      <td>2023</td>\n",
              "      <td>Jul</td>\n",
              "      <td>61</td>\n",
              "    </tr>\n",
              "    <tr>\n",
              "      <th>41</th>\n",
              "      <td>2023</td>\n",
              "      <td>Ago</td>\n",
              "      <td>56</td>\n",
              "    </tr>\n",
              "    <tr>\n",
              "      <th>42</th>\n",
              "      <td>2023</td>\n",
              "      <td>Set</td>\n",
              "      <td>73</td>\n",
              "    </tr>\n",
              "    <tr>\n",
              "      <th>43</th>\n",
              "      <td>2023</td>\n",
              "      <td>Out</td>\n",
              "      <td>63</td>\n",
              "    </tr>\n",
              "    <tr>\n",
              "      <th>44</th>\n",
              "      <td>2023</td>\n",
              "      <td>Nov</td>\n",
              "      <td>68</td>\n",
              "    </tr>\n",
              "    <tr>\n",
              "      <th>45</th>\n",
              "      <td>2023</td>\n",
              "      <td>Dez</td>\n",
              "      <td>49</td>\n",
              "    </tr>\n",
              "    <tr>\n",
              "      <th>46</th>\n",
              "      <td>2024</td>\n",
              "      <td>Jan</td>\n",
              "      <td>43</td>\n",
              "    </tr>\n",
              "    <tr>\n",
              "      <th>47</th>\n",
              "      <td>2024</td>\n",
              "      <td>Fev</td>\n",
              "      <td>67</td>\n",
              "    </tr>\n",
              "    <tr>\n",
              "      <th>48</th>\n",
              "      <td>2024</td>\n",
              "      <td>Mar</td>\n",
              "      <td>60</td>\n",
              "    </tr>\n",
              "    <tr>\n",
              "      <th>49</th>\n",
              "      <td>2024</td>\n",
              "      <td>Abr</td>\n",
              "      <td>53</td>\n",
              "    </tr>\n",
              "    <tr>\n",
              "      <th>50</th>\n",
              "      <td>2024</td>\n",
              "      <td>Mai</td>\n",
              "      <td>53</td>\n",
              "    </tr>\n",
              "    <tr>\n",
              "      <th>51</th>\n",
              "      <td>2024</td>\n",
              "      <td>Jun</td>\n",
              "      <td>50</td>\n",
              "    </tr>\n",
              "    <tr>\n",
              "      <th>52</th>\n",
              "      <td>2024</td>\n",
              "      <td>Jul</td>\n",
              "      <td>63</td>\n",
              "    </tr>\n",
              "    <tr>\n",
              "      <th>53</th>\n",
              "      <td>2024</td>\n",
              "      <td>Ago</td>\n",
              "      <td>57</td>\n",
              "    </tr>\n",
              "    <tr>\n",
              "      <th>54</th>\n",
              "      <td>2024</td>\n",
              "      <td>Set</td>\n",
              "      <td>58</td>\n",
              "    </tr>\n",
              "    <tr>\n",
              "      <th>55</th>\n",
              "      <td>2024</td>\n",
              "      <td>Out</td>\n",
              "      <td>51</td>\n",
              "    </tr>\n",
              "    <tr>\n",
              "      <th>56</th>\n",
              "      <td>2024</td>\n",
              "      <td>Nov</td>\n",
              "      <td>51</td>\n",
              "    </tr>\n",
              "    <tr>\n",
              "      <th>57</th>\n",
              "      <td>2024</td>\n",
              "      <td>Dez</td>\n",
              "      <td>54</td>\n",
              "    </tr>\n",
              "  </tbody>\n",
              "</table>\n",
              "</div>"
            ],
            "text/plain": [
              "     Ano  Mês   0\n",
              "10  2021  Jan  48\n",
              "11  2021  Fev  63\n",
              "12  2021  Mar  59\n",
              "13  2021  Abr  64\n",
              "14  2021  Mai  59\n",
              "15  2021  Jun  71\n",
              "16  2021  Jul  69\n",
              "17  2021  Ago  65\n",
              "18  2021  Set  61\n",
              "19  2021  Out  70\n",
              "20  2021  Nov  59\n",
              "21  2021  Dez  58\n",
              "22  2022  Jan  48\n",
              "23  2022  Fev  48\n",
              "24  2022  Mar  65\n",
              "25  2022  Abr  72\n",
              "26  2022  Mai  72\n",
              "27  2022  Jun  71\n",
              "28  2022  Jul  74\n",
              "29  2022  Ago  60\n",
              "30  2022  Set  66\n",
              "31  2022  Out  84\n",
              "32  2022  Nov  68\n",
              "33  2022  Dez  54\n",
              "34  2023  Jan  62\n",
              "35  2023  Fev  54\n",
              "36  2023  Mar  59\n",
              "37  2023  Abr  58\n",
              "38  2023  Mai  63\n",
              "39  2023  Jun  62\n",
              "40  2023  Jul  61\n",
              "41  2023  Ago  56\n",
              "42  2023  Set  73\n",
              "43  2023  Out  63\n",
              "44  2023  Nov  68\n",
              "45  2023  Dez  49\n",
              "46  2024  Jan  43\n",
              "47  2024  Fev  67\n",
              "48  2024  Mar  60\n",
              "49  2024  Abr  53\n",
              "50  2024  Mai  53\n",
              "51  2024  Jun  50\n",
              "52  2024  Jul  63\n",
              "53  2024  Ago  57\n",
              "54  2024  Set  58\n",
              "55  2024  Out  51\n",
              "56  2024  Nov  51\n",
              "57  2024  Dez  54"
            ]
          },
          "execution_count": 128,
          "metadata": {},
          "output_type": "execute_result"
        }
      ],
      "source": [
        "meses = {1: \"Jan\", 2: \"Fev\", 3: \"Mar\", 4: \"Abr\", 5: \"Mai\", 6: \"Jun\",\n",
        "                    7: \"Jul\", 8: \"Ago\", 9: \"Set\", 10: \"Out\", 11: \"Nov\", 12: \"Dez\"}\n",
        "\n",
        "ocorrencias_anuais_por_mes = df.copy()\n",
        "ocorrencias_anuais_por_mes[\"Ano\"] = ocorrencias_anuais_por_mes.Data.dt.year\n",
        "ocorrencias_anuais_por_mes[\"Mês\"] = ocorrencias_anuais_por_mes.Data.dt.month\n",
        "ocorrencias_anuais_por_mes = ocorrencias_anuais_por_mes[[\"Ano\",\"Mês\"]]\n",
        "ocorrencias_anuais_por_mes = ocorrencias_anuais_por_mes.groupby([\"Ano\",\"Mês\"]).size().reset_index()\n",
        "ocorrencias_anuais_por_mes[\"Mês\"] = ocorrencias_anuais_por_mes[\"Mês\"].map(meses)\n",
        "ocorrencias_anuais_por_mes = ocorrencias_anuais_por_mes[ocorrencias_anuais_por_mes['Ano'] != 2020]\n",
        "ocorrencias_anuais_por_mes"
      ]
    },
    {
      "cell_type": "code",
      "execution_count": 129,
      "metadata": {
        "colab": {
          "base_uri": "https://localhost:8080/",
          "height": 468
        },
        "id": "aJ0KeAn773L-",
        "outputId": "f36d304e-97f6-444f-d9ca-9c1aa1d501e5"
      },
      "outputs": [
        {
          "data": {
            "image/png": "[encoded data removed]",
            "text/plain": [
              "<Figure size 1000x500 with 1 Axes>"
            ]
          },
          "metadata": {},
          "output_type": "display_data"
        }
      ],
      "source": [
        "plt.figure(figsize=(10,5))\n",
        "ax = sns.lineplot(ocorrencias_anuais_por_mes, x=\"Mês\", y=0, hue=\"Ano\", palette=\"tab10\", lw=3)\n",
        "ax.set_title(\"Número de ocorrências anuais X Mês\")\n",
        "ax.set_xlabel(\"\")\n",
        "ax.set_ylabel(\"\")\n",
        "ax.grid()\n",
        "\n",
        "sns.despine()\n",
        "plt.savefig(\"../dataviz/grafico-ocorrencias_anuaisXmes.png\", dpi=300, bbox_inches=\"tight\")"
      ]
    },
    {
      "cell_type": "markdown",
      "metadata": {
        "id": "XMnm8VATPxtw"
      },
      "source": [
        "### 5° Gráfico\n",
        "\n",
        "Ocorrencias X causa"
      ]
    },
    {
      "cell_type": "code",
      "execution_count": 130,
      "metadata": {
        "colab": {
          "base_uri": "https://localhost:8080/",
          "height": 300
        },
        "id": "E9WD8NVuD9GN",
        "outputId": "a16b5200-acea-4e9c-f3a8-a1dddf6bc956"
      },
      "outputs": [
        {
          "data": {
            "text/html": [
              "<div>\n",
              "<style scoped>\n",
              "    .dataframe tbody tr th:only-of-type {\n",
              "        vertical-align: middle;\n",
              "    }\n",
              "\n",
              "    .dataframe tbody tr th {\n",
              "        vertical-align: top;\n",
              "    }\n",
              "\n",
              "    .dataframe thead th {\n",
              "        text-align: right;\n",
              "    }\n",
              "</style>\n",
              "<table border=\"1\" class=\"dataframe\">\n",
              "  <thead>\n",
              "    <tr style=\"text-align: right;\">\n",
              "      <th></th>\n",
              "      <th>Causa_Direta</th>\n",
              "      <th>Quantidade</th>\n",
              "    </tr>\n",
              "  </thead>\n",
              "  <tbody>\n",
              "    <tr>\n",
              "      <th>0</th>\n",
              "      <td>Interferência de Terceiro</td>\n",
              "      <td>2175</td>\n",
              "    </tr>\n",
              "    <tr>\n",
              "      <th>1</th>\n",
              "      <td>Via Permanente</td>\n",
              "      <td>497</td>\n",
              "    </tr>\n",
              "    <tr>\n",
              "      <th>2</th>\n",
              "      <td>Material Rodante</td>\n",
              "      <td>138</td>\n",
              "    </tr>\n",
              "    <tr>\n",
              "      <th>3</th>\n",
              "      <td>Casos Fortuitos ou de Força Maior</td>\n",
              "      <td>89</td>\n",
              "    </tr>\n",
              "    <tr>\n",
              "      <th>4</th>\n",
              "      <td>Falha Humana</td>\n",
              "      <td>47</td>\n",
              "    </tr>\n",
              "    <tr>\n",
              "      <th>5</th>\n",
              "      <td>Outras Causas</td>\n",
              "      <td>16</td>\n",
              "    </tr>\n",
              "    <tr>\n",
              "      <th>6</th>\n",
              "      <td>Gestão</td>\n",
              "      <td>4</td>\n",
              "    </tr>\n",
              "    <tr>\n",
              "      <th>7</th>\n",
              "      <td>Sistemas</td>\n",
              "      <td>1</td>\n",
              "    </tr>\n",
              "  </tbody>\n",
              "</table>\n",
              "</div>"
            ],
            "text/plain": [
              "                        Causa_Direta  Quantidade\n",
              "0          Interferência de Terceiro        2175\n",
              "1                     Via Permanente         497\n",
              "2                   Material Rodante         138\n",
              "3  Casos Fortuitos ou de Força Maior          89\n",
              "4                       Falha Humana          47\n",
              "5                      Outras Causas          16\n",
              "6                             Gestão           4\n",
              "7                           Sistemas           1"
            ]
          },
          "execution_count": 130,
          "metadata": {},
          "output_type": "execute_result"
        }
      ],
      "source": [
        "ocorrencias_por_causa = df.copy()[\"Causa_Direta\"].value_counts().reset_index()\n",
        "ocorrencias_por_causa.columns = [\"Causa_Direta\",\"Quantidade\"]\n",
        "ocorrencias_por_causa"
      ]
    },
    {
      "cell_type": "code",
      "execution_count": 131,
      "metadata": {
        "colab": {
          "base_uri": "https://localhost:8080/",
          "height": 399
        },
        "id": "ZpGbfoz9RGGd",
        "outputId": "047d6129-067e-4bba-85ed-3e26786ae526"
      },
      "outputs": [
        {
          "data": {
            "image/png": "[encoded data removed]",
            "text/plain": [
              "<Figure size 800x400 with 1 Axes>"
            ]
          },
          "metadata": {},
          "output_type": "display_data"
        }
      ],
      "source": [
        "plt.figure(figsize=(8,4))\n",
        "ax = sns.barplot(ocorrencias_por_causa, x=\"Quantidade\", y=\"Causa_Direta\")\n",
        "\n",
        "ax.set_title(\"Número de Ocorrências por Causa Direta\", fontsize=14)\n",
        "ax.set_xlabel(\"Número de Ocorrências\")\n",
        "ax.set_ylabel(\"\")\n",
        "ax.grid(axis=\"x\", linestyle=\"--\", alpha=0.7)\n",
        "sns.despine()\n",
        "\n",
        "plt.savefig(\"../dataviz/grafico-ocorrenciasXcausa.png\", dpi=300, bbox_inches=\"tight\")"
      ]
    },
    {
      "cell_type": "markdown",
      "metadata": {
        "id": "4cBcZIxkCW1K"
      },
      "source": [
        "# Sprint 4"
      ]
    },
    {
      "cell_type": "markdown",
      "metadata": {
        "id": "oJi3bYKAXQrz"
      },
      "source": [
        "## Importando bibliotecas"
      ]
    },
    {
      "cell_type": "code",
      "execution_count": 132,
      "metadata": {
        "id": "AYuMIqwSOFB6"
      },
      "outputs": [],
      "source": [
        "from sklearn.model_selection import train_test_split\n",
        "from sklearn.linear_model import LinearRegression\n",
        "from sklearn.ensemble import RandomForestRegressor, GradientBoostingRegressor\n",
        "from sklearn.metrics import r2_score"
      ]
    },
    {
      "cell_type": "markdown",
      "metadata": {
        "id": "mIcCLD6DXWsW"
      },
      "source": [
        "## Organizando banco de dados"
      ]
    },
    {
      "cell_type": "code",
      "execution_count": 133,
      "metadata": {
        "colab": {
          "base_uri": "https://localhost:8080/"
        },
        "id": "n6IrFHheGy9h",
        "outputId": "6a97a613-bb65-458e-f952-d10634b1d8fc"
      },
      "outputs": [
        {
          "name": "stdout",
          "output_type": "stream",
          "text": [
            "<class 'pandas.core.frame.DataFrame'>\n",
            "RangeIndex: 2967 entries, 0 to 2966\n",
            "Data columns (total 9 columns):\n",
            " #   Column              Non-Null Count  Dtype  \n",
            "---  ------              --------------  -----  \n",
            " 0   Data                2967 non-null   object \n",
            " 1   Perimetro_Urbano    2967 non-null   object \n",
            " 2   Causa_Direta        2967 non-null   object \n",
            " 3   Causa_Contributiva  2967 non-null   object \n",
            " 4   Natureza            2967 non-null   object \n",
            " 5   Interrupcao (h)     2967 non-null   float64\n",
            " 6   N_Feridos           2967 non-null   int64  \n",
            " 7   N_Obitos            2967 non-null   int64  \n",
            " 8   Prejuizo (R$)       2967 non-null   float64\n",
            "dtypes: float64(2), int64(2), object(5)\n",
            "memory usage: 208.7+ KB\n"
          ]
        }
      ],
      "source": [
        "df_ml = pd.read_csv(\"../data/base_dados_limpa.csv\")\n",
        "df_ml.info()"
      ]
    },
    {
      "cell_type": "code",
      "execution_count": 134,
      "metadata": {
        "colab": {
          "base_uri": "https://localhost:8080/",
          "height": 774
        },
        "id": "OoCMnKp8HZtU",
        "outputId": "a23cdd28-fbce-439d-88c0-2d5bdb05185e"
      },
      "outputs": [
        {
          "data": {
            "text/html": [
              "<div>\n",
              "<style scoped>\n",
              "    .dataframe tbody tr th:only-of-type {\n",
              "        vertical-align: middle;\n",
              "    }\n",
              "\n",
              "    .dataframe tbody tr th {\n",
              "        vertical-align: top;\n",
              "    }\n",
              "\n",
              "    .dataframe thead th {\n",
              "        text-align: right;\n",
              "    }\n",
              "</style>\n",
              "<table border=\"1\" class=\"dataframe\">\n",
              "  <thead>\n",
              "    <tr style=\"text-align: right;\">\n",
              "      <th></th>\n",
              "      <th>Causa_Direta</th>\n",
              "      <th>Natureza</th>\n",
              "      <th>Interrupcao (h)</th>\n",
              "      <th>Hora</th>\n",
              "    </tr>\n",
              "  </thead>\n",
              "  <tbody>\n",
              "    <tr>\n",
              "      <th>0</th>\n",
              "      <td>Casos Fortuitos ou de Força Maior</td>\n",
              "      <td>Colisão</td>\n",
              "      <td>0.0</td>\n",
              "      <td>16</td>\n",
              "    </tr>\n",
              "    <tr>\n",
              "      <th>1</th>\n",
              "      <td>Casos Fortuitos ou de Força Maior</td>\n",
              "      <td>Abalroamento</td>\n",
              "      <td>1.5</td>\n",
              "      <td>6</td>\n",
              "    </tr>\n",
              "    <tr>\n",
              "      <th>2</th>\n",
              "      <td>Falha Humana</td>\n",
              "      <td>Colisão</td>\n",
              "      <td>9.0</td>\n",
              "      <td>20</td>\n",
              "    </tr>\n",
              "    <tr>\n",
              "      <th>3</th>\n",
              "      <td>Via Permanente</td>\n",
              "      <td>Descarrilamento</td>\n",
              "      <td>28.0</td>\n",
              "      <td>16</td>\n",
              "    </tr>\n",
              "    <tr>\n",
              "      <th>4</th>\n",
              "      <td>Casos Fortuitos ou de Força Maior</td>\n",
              "      <td>Atropelamento</td>\n",
              "      <td>1.4</td>\n",
              "      <td>7</td>\n",
              "    </tr>\n",
              "  </tbody>\n",
              "</table>\n",
              "</div>"
            ],
            "text/plain": [
              "                        Causa_Direta         Natureza  Interrupcao (h)  Hora\n",
              "0  Casos Fortuitos ou de Força Maior          Colisão              0.0    16\n",
              "1  Casos Fortuitos ou de Força Maior     Abalroamento              1.5     6\n",
              "2                       Falha Humana          Colisão              9.0    20\n",
              "3                     Via Permanente  Descarrilamento             28.0    16\n",
              "4  Casos Fortuitos ou de Força Maior    Atropelamento              1.4     7"
            ]
          },
          "execution_count": 134,
          "metadata": {},
          "output_type": "execute_result"
        }
      ],
      "source": [
        "df_ml[\"Data\"] = pd.to_datetime(df_ml[\"Data\"])\n",
        "df_ml[\"Hora\"] = df_ml[\"Data\"].dt.hour\n",
        "\n",
        "df_ml.drop(\"Data\", axis=1, inplace=True)\n",
        "df_ml = df_ml[[\"Causa_Direta\",\"Natureza\",\"Interrupcao (h)\",\"Hora\"]]\n",
        "df_ml.head()"
      ]
    },
    {
      "cell_type": "code",
      "execution_count": 135,
      "metadata": {},
      "outputs": [],
      "source": [
        "df_ml.to_csv(\"../data/base_dados_ml.csv\")"
      ]
    },
    {
      "cell_type": "markdown",
      "metadata": {},
      "source": [
        "## Gerando o modelo de ML"
      ]
    },
    {
      "cell_type": "code",
      "execution_count": 136,
      "metadata": {},
      "outputs": [],
      "source": [
        "df_model = pd.read_csv(\"../data/base_dados_ml.csv\")\n",
        "df_ml_encoded = pd.get_dummies(df_model, columns=[\"Causa_Direta\",\"Natureza\"], drop_first=True)"
      ]
    },
    {
      "cell_type": "code",
      "execution_count": 137,
      "metadata": {
        "colab": {
          "base_uri": "https://localhost:8080/",
          "height": 461
        },
        "id": "FDlOEmqxMKGV",
        "outputId": "5bcb49b8-f4e0-4cfa-d1c9-bc0716f41ac1"
      },
      "outputs": [],
      "source": [
        "X = df_ml_encoded.drop(\"Interrupcao (h)\", axis=1)\n",
        "y = df_ml_encoded[\"Interrupcao (h)\"]"
      ]
    },
    {
      "cell_type": "code",
      "execution_count": 138,
      "metadata": {
        "id": "nXxRGjxUNG-b"
      },
      "outputs": [],
      "source": [
        "X_train, X_test, y_train, y_test = train_test_split(X,y)"
      ]
    },
    {
      "cell_type": "code",
      "execution_count": 139,
      "metadata": {
        "id": "HKBvBJ4uN_md"
      },
      "outputs": [
        {
          "name": "stdout",
          "output_type": "stream",
          "text": [
            "{'rf': 0.041486220197498924, 'gb': 0.05586290164866148, 'lr': 0.05592154107577252}\n",
            "RandomForestRegressor()\n"
          ]
        }
      ],
      "source": [
        "models = {\n",
        "    \"rf\":RandomForestRegressor(),\n",
        "    \"gb\":GradientBoostingRegressor(),\n",
        "    \"lr\":LinearRegression()\n",
        "}\n",
        "\n",
        "results = {}\n",
        "\n",
        "for name, model in models.items():\n",
        "    model.fit(X_train, y_train)\n",
        "    y_pred = model.predict(X_test)\n",
        "    r2 = r2_score(y_test, y_pred)\n",
        "    results[name] = r2\n",
        "    \n",
        "print(results)\n",
        "    \n",
        "best_model = models[max(results)]\n",
        "print(best_model)\n",
        "    "
      ]
    },
    {
      "cell_type": "markdown",
      "metadata": {},
      "source": [
        "## Salvando o melhor modelo"
      ]
    },
    {
      "cell_type": "code",
      "execution_count": 140,
      "metadata": {
        "id": "cpnEsPLOOxRG"
      },
      "outputs": [],
      "source": [
        "pd.to_pickle(best_model, \"../models/modelo_treinado.pkl\")"
      ]
    }
  ],
  "metadata": {
    "colab": {
      "provenance": [],
      "toc_visible": true
    },
    "kernelspec": {
      "display_name": ".venv",
      "language": "python",
      "name": "python3"
    },
    "language_info": {
      "codemirror_mode": {
        "name": "ipython",
        "version": 3
      },
      "file_extension": ".py",
      "mimetype": "text/x-python",
      "name": "python",
      "nbconvert_exporter": "python",
      "pygments_lexer": "ipython3",
      "version": "3.13.3"
    }
  },
  "nbformat": 4,
  "nbformat_minor": 0
}
